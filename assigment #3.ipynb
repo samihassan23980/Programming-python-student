{
 "cells": [
  {
   "cell_type": "code",
   "execution_count": 1,
   "metadata": {},
   "outputs": [
    {
     "name": "stdout",
     "output_type": "stream",
     "text": [
      "wellcome to calculator\n",
      "enter your first value5\n",
      "plese select your operator + - / *-\n",
      "please enter your second value15\n",
      "-10\n"
     ]
    }
   ],
   "source": [
    "print(\"wellcome to calculator\")\n",
    "\n",
    "a=int(input(\"enter your first value\"))\n",
    "b=input(\"plese select your operator + - / *\")\n",
    "c=int(input(\"please enter your second value\"))\n",
    "\n",
    "if b == '+':\n",
    "    print(a + c)\n",
    "elif b == '-':\n",
    "    print(a-c)\n",
    "elif b == '/':\n",
    "    print(a/c)\n",
    "elif b == '*':\n",
    "    print(a*c)\n",
    "else:\n",
    "    print(\"you are using wrong operator\")"
   ]
  },
  {
   "cell_type": "code",
   "execution_count": null,
   "metadata": {},
   "outputs": [],
   "source": []
  },
  {
   "cell_type": "code",
   "execution_count": null,
   "metadata": {},
   "outputs": [],
   "source": []
  }
 ],
 "metadata": {
  "kernelspec": {
   "display_name": "Python 3",
   "language": "python",
   "name": "python3"
  },
  "language_info": {
   "codemirror_mode": {
    "name": "ipython",
    "version": 3
   },
   "file_extension": ".py",
   "mimetype": "text/x-python",
   "name": "python",
   "nbconvert_exporter": "python",
   "pygments_lexer": "ipython3",
   "version": "3.7.4"
  }
 },
 "nbformat": 4,
 "nbformat_minor": 2
}
